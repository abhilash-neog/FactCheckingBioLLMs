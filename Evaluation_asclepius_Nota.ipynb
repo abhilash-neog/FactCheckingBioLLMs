{
  "nbformat": 4,
  "nbformat_minor": 0,
  "metadata": {
    "colab": {
      "provenance": []
    },
    "kernelspec": {
      "name": "python3",
      "display_name": "Python 3"
    },
    "language_info": {
      "name": "python"
    }
  },
  "cells": [
    {
      "cell_type": "code",
      "execution_count": 1,
      "metadata": {
        "id": "-SJSaXe89sgr"
      },
      "outputs": [],
      "source": [
        "import pandas as pd\n",
        "import re"
      ]
    },
    {
      "cell_type": "code",
      "source": [
        "file_path = '/content/asclepius_Nota.csv'\n",
        "df = pd.read_csv(file_path)"
      ],
      "metadata": {
        "id": "1s2n0Lro-DT_"
      },
      "execution_count": 2,
      "outputs": []
    },
    {
      "cell_type": "code",
      "source": [
        "pattern1 = r\"The correct answer is 'None of the above'\"\n",
        "pattern2 = r'None of the above'\n",
        "pattern3 = r'None'\n",
        "pattern4 = r'0'\n",
        "pattern5= r\"'0': 'None of the above'\"\n",
        "pattern6= r\"unanswerable\""
      ],
      "metadata": {
        "id": "LjQBcIpX_6GJ"
      },
      "execution_count": 6,
      "outputs": []
    },
    {
      "cell_type": "code",
      "source": [
        "pattern_regex1 = re.compile(pattern1,re.IGNORECASE)\n",
        "pattern_regex2 = re.compile(pattern2,re.IGNORECASE)\n",
        "pattern_regex3 = re.compile(pattern3,re.IGNORECASE)\n",
        "pattern_regex4 = re.compile(pattern4,re.IGNORECASE)\n",
        "pattern_regex5 = re.compile(pattern5,re.IGNORECASE)\n",
        "pattern_regex6 = re.compile(pattern6,re.IGNORECASE)\n",
        "\n"
      ],
      "metadata": {
        "id": "27bekK7lAofl"
      },
      "execution_count": 7,
      "outputs": []
    },
    {
      "cell_type": "code",
      "source": [
        "def check_pattern(text, pattern):\n",
        "    return bool(pattern.search(text))\n",
        "correct_answer=0\n",
        "for index, row in df.iterrows():\n",
        "    cell_content = row[1].split('Output:')[-1]\n",
        "    if check_pattern(cell_content, pattern_regex1) or check_pattern(cell_content, pattern_regex2) or check_pattern(cell_content, pattern_regex3) or check_pattern(cell_content, pattern_regex6):\n",
        "        correct_answer += 1\n",
        "\n",
        "    cell_content2 = row[1].split('Input:')[-1]\n",
        "\n",
        "    if check_pattern(cell_content, pattern_regex4) & check_pattern(cell_content2, pattern_regex5):\n",
        "        correct_answer += 1\n",
        "\n",
        "\n",
        "\n",
        "print(f\"The correct answers: {correct_answer}\")\n",
        "Accuracy=(correct_answer/18866)\n",
        "Accuracy_percentage=Accuracy * 100\n",
        "print(f\"The accuracy: {Accuracy_percentage}\")\n",
        "wrong_answer=18866-correct_answer\n",
        "print(f\"The wrong answers: {wrong_answer}\")\n",
        "PointwiseScore=((Accuracy*18866) - 0.25*(18866 - Accuracy*18866))/100\n",
        "print(f\"The PointwiseScore: {PointwiseScore}\")\n"
      ],
      "metadata": {
        "colab": {
          "base_uri": "https://localhost:8080/"
        },
        "id": "ws6mfg4LA2j2",
        "outputId": "3df8ecb1-b234-4731-e93b-94e18e226ff7"
      },
      "execution_count": 8,
      "outputs": [
        {
          "output_type": "stream",
          "name": "stdout",
          "text": [
            "The correct answers: 9633\n",
            "The accuracy: 51.06010813102937\n",
            "The wrong answers: 9233\n",
            "The PointwiseScore: 73.2475\n"
          ]
        }
      ]
    }
  ]
}