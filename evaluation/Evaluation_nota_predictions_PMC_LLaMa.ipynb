{
 "cells": [
  {
   "cell_type": "code",
   "execution_count": 1,
   "metadata": {
    "executionInfo": {
     "elapsed": 812,
     "status": "ok",
     "timestamp": 1714420926667,
     "user": {
      "displayName": "Manar Ok",
      "userId": "03240825900900191871"
     },
     "user_tz": 240
    },
    "id": "-SJSaXe89sgr"
   },
   "outputs": [],
   "source": [
    "import pandas as pd\n",
    "import re"
   ]
  },
  {
   "cell_type": "code",
   "execution_count": 2,
   "metadata": {
    "executionInfo": {
     "elapsed": 1010,
     "status": "ok",
     "timestamp": 1714420929357,
     "user": {
      "displayName": "Manar Ok",
      "userId": "03240825900900191871"
     },
     "user_tz": 240
    },
    "id": "1s2n0Lro-DT_"
   },
   "outputs": [],
   "source": [
    "file_path = '/data/wang/sindhura/FactCheckingBioLLMs/predictions/PMCLLaMa_Nota.csv'\n",
    "df = pd.read_csv(file_path)"
   ]
  },
  {
   "cell_type": "code",
   "execution_count": 3,
   "metadata": {
    "executionInfo": {
     "elapsed": 265,
     "status": "ok",
     "timestamp": 1714420931343,
     "user": {
      "displayName": "Manar Ok",
      "userId": "03240825900900191871"
     },
     "user_tz": 240
    },
    "id": "LjQBcIpX_6GJ"
   },
   "outputs": [],
   "source": [
    "pattern1 = r\"The correct answer is 'None of the above'\"\n",
    "pattern2 = r'None of the above'\n",
    "pattern3 = r'None'\n",
    "pattern4 = r'0'\n",
    "pattern5= r\"'0': 'None of the above'\"\n",
    "pattern6=r\"unanswerable\""
   ]
  },
  {
   "cell_type": "code",
   "execution_count": 4,
   "metadata": {
    "executionInfo": {
     "elapsed": 267,
     "status": "ok",
     "timestamp": 1714420933912,
     "user": {
      "displayName": "Manar Ok",
      "userId": "03240825900900191871"
     },
     "user_tz": 240
    },
    "id": "27bekK7lAofl"
   },
   "outputs": [],
   "source": [
    "pattern_regex1 = re.compile(pattern1,re.IGNORECASE)\n",
    "pattern_regex2 = re.compile(pattern2,re.IGNORECASE)\n",
    "pattern_regex3 = re.compile(pattern3,re.IGNORECASE)\n",
    "pattern_regex4 = re.compile(pattern4,re.IGNORECASE)\n",
    "pattern_regex5 = re.compile(pattern5,re.IGNORECASE)\n",
    "pattern_regex6 = re.compile(pattern6,re.IGNORECASE)\n",
    "\n"
   ]
  },
  {
   "cell_type": "code",
   "execution_count": 5,
   "metadata": {
    "colab": {
     "base_uri": "https://localhost:8080/"
    },
    "executionInfo": {
     "elapsed": 1857,
     "status": "ok",
     "timestamp": 1714420971337,
     "user": {
      "displayName": "Manar Ok",
      "userId": "03240825900900191871"
     },
     "user_tz": 240
    },
    "id": "ws6mfg4LA2j2",
    "outputId": "9fc200df-aeea-41d4-82df-9e2222bf12d0"
   },
   "outputs": [],
   "source": [
    "def check_pattern(text, pattern):\n",
    "    return bool(pattern.search(text))\n",
    "correct_answer=0\n",
    "for index, row in df.iterrows():\n",
    "    cell_content = row[0].split('Output:')[-1]\n",
    "    if check_pattern(cell_content, pattern_regex1) or check_pattern(cell_content, pattern_regex2) or check_pattern(cell_content, pattern_regex3) or check_pattern(cell_content, pattern_regex6):\n",
    "        correct_answer += 1\n",
    "\n",
    "    cell_content2 = row[0].split('Input:')[-1]\n",
    "\n",
    "    if check_pattern(cell_content, pattern_regex4) & check_pattern(cell_content2, pattern_regex5):\n",
    "        correct_answer += 1"
   ]
  },
  {
   "cell_type": "code",
   "execution_count": 6,
   "metadata": {},
   "outputs": [
    {
     "name": "stdout",
     "output_type": "stream",
     "text": [
      "The correct answers: 0\n",
      "The accuracy: 0.0\n",
      "The wrong answers: 12010\n",
      "The PointwiseScore: -30.025\n"
     ]
    }
   ],
   "source": [
    "print(f\"The correct answers: {correct_answer}\")\n",
    "Accuracy=(correct_answer/12010)\n",
    "Accuracy_percentage=Accuracy * 100\n",
    "print(f\"The accuracy: {Accuracy_percentage}\")\n",
    "wrong_answer=12010-correct_answer\n",
    "print(f\"The wrong answers: {wrong_answer}\")\n",
    "PointwiseScore=((Accuracy*12010) - 0.25*(12010 - Accuracy*12010))/100\n",
    "print(f\"The PointwiseScore: {PointwiseScore}\")\n"
   ]
  }
 ],
 "metadata": {
  "colab": {
   "authorship_tag": "ABX9TyMTsycBqhfbOUeBYdOLpV9i",
   "provenance": []
  },
  "kernelspec": {
   "display_name": "Python 3 (ipykernel)",
   "language": "python",
   "name": "python3"
  },
  "language_info": {
   "codemirror_mode": {
    "name": "ipython",
    "version": 3
   },
   "file_extension": ".py",
   "mimetype": "text/x-python",
   "name": "python",
   "nbconvert_exporter": "python",
   "pygments_lexer": "ipython3",
   "version": "3.9.12"
  }
 },
 "nbformat": 4,
 "nbformat_minor": 1
}
