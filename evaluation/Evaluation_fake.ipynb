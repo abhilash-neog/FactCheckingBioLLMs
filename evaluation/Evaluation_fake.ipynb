{
 "cells": [
  {
   "cell_type": "code",
   "execution_count": 1,
   "metadata": {
    "executionInfo": {
     "elapsed": 1976,
     "status": "ok",
     "timestamp": 1714352223814,
     "user": {
      "displayName": "Manar Ok",
      "userId": "03240825900900191871"
     },
     "user_tz": 240
    },
    "id": "-SJSaXe89sgr"
   },
   "outputs": [],
   "source": [
    "import pandas as pd\n",
    "import re"
   ]
  },
  {
   "cell_type": "code",
   "execution_count": 2,
   "metadata": {
    "executionInfo": {
     "elapsed": 398,
     "status": "ok",
     "timestamp": 1714352225785,
     "user": {
      "displayName": "Manar Ok",
      "userId": "03240825900900191871"
     },
     "user_tz": 240
    },
    "id": "1s2n0Lro-DT_"
   },
   "outputs": [],
   "source": [
    "file_path = '/data/wang/sindhura/FactCheckingBioLLMs/predictions/PMCLLaMa_fake.csv'\n",
    "df = pd.read_csv(file_path)"
   ]
  },
  {
   "cell_type": "code",
   "execution_count": 3,
   "metadata": {
    "executionInfo": {
     "elapsed": 162,
     "status": "ok",
     "timestamp": 1714352227742,
     "user": {
      "displayName": "Manar Ok",
      "userId": "03240825900900191871"
     },
     "user_tz": 240
    },
    "id": "LjQBcIpX_6GJ"
   },
   "outputs": [],
   "source": [
    "pattern1 = r'###Answer: OPTION 5'\n",
    "pattern2 = r'###Answer: OPTION 4'\n",
    "pattern3 = r'###Answer: OPTION 6'\n",
    "pattern4 = r'###Answer: OPTION I do not know'\n",
    "pattern5 = r'Output: 5'\n",
    "pattern6 = r'Output: 4'\n",
    "pattern7 = r'Output: 6'\n",
    "pattern8 = r'The correct answer is 4'\n",
    "pattern9 = r'The correct answer is 5'\n",
    "pattern10 = r'The correct answer is 6'\n",
    "pattern11 = r\"the correct answer is '5'\"\n",
    "pattern12 = r\"the correct answer is '4'\"\n",
    "pattern13 = r\"the correct answer is '6'\"\n",
    "\n",
    "pattern14 = r\"the answer is 'I do not know'\"\n",
    "pattern15 = r'The correct answer is option 4'\n",
    "pattern16 = r'The correct answer is option 5'\n",
    "pattern17 = r'The correct answer is option 6'\n",
    "\n",
    "pattern18 = r'Option 4 is the correct answer'\n",
    "pattern19 = r'Option 5 is the correct answer'\n",
    "pattern20 = r'Option 6 is the correct answer'\n",
    "\n",
    "pattern21 = r\"The correct answer is 'I do not know'\"\n",
    "\n",
    "pattern22 = r'the correct answer is \"I do not'\n"
   ]
  },
  {
   "cell_type": "code",
   "execution_count": 4,
   "metadata": {
    "executionInfo": {
     "elapsed": 179,
     "status": "ok",
     "timestamp": 1714352231000,
     "user": {
      "displayName": "Manar Ok",
      "userId": "03240825900900191871"
     },
     "user_tz": 240
    },
    "id": "27bekK7lAofl"
   },
   "outputs": [],
   "source": [
    "pattern_regex1 = re.compile(pattern1)\n",
    "pattern_regex2 = re.compile(pattern2)\n",
    "pattern_regex3 = re.compile(pattern3)\n",
    "pattern_regex4 = re.compile(pattern4)\n",
    "pattern_regex5 = re.compile(pattern5)\n",
    "pattern_regex6 = re.compile(pattern6)\n",
    "pattern_regex7 = re.compile(pattern7)\n",
    "pattern_regex8 = re.compile(pattern8, re.IGNORECASE)\n",
    "pattern_regex9 = re.compile(pattern9, re.IGNORECASE)\n",
    "pattern_regex10 = re.compile(pattern10, re.IGNORECASE)\n",
    "pattern_regex11 = re.compile(pattern11, re.IGNORECASE)\n",
    "pattern_regex12 = re.compile(pattern12, re.IGNORECASE)\n",
    "pattern_regex13 = re.compile(pattern13, re.IGNORECASE)\n",
    "pattern_regex14 = re.compile(pattern14, re.IGNORECASE)\n",
    "pattern_regex15 = re.compile(pattern15, re.IGNORECASE)\n",
    "pattern_regex16 = re.compile(pattern16, re.IGNORECASE)\n",
    "pattern_regex17 = re.compile(pattern17, re.IGNORECASE)\n",
    "pattern_regex18 = re.compile(pattern18, re.IGNORECASE)\n",
    "pattern_regex19 = re.compile(pattern19, re.IGNORECASE)\n",
    "pattern_regex20 = re.compile(pattern20, re.IGNORECASE)\n",
    "pattern_regex21 = re.compile(pattern21, re.IGNORECASE)\n",
    "pattern_regex22 = re.compile(pattern22, re.IGNORECASE)"
   ]
  },
  {
   "cell_type": "code",
   "execution_count": 5,
   "metadata": {
    "executionInfo": {
     "elapsed": 173,
     "status": "ok",
     "timestamp": 1714352233821,
     "user": {
      "displayName": "Manar Ok",
      "userId": "03240825900900191871"
     },
     "user_tz": 240
    },
    "id": "UWv-iSquAuQa"
   },
   "outputs": [],
   "source": [
    "def check_pattern(text, pattern):\n",
    "    return bool(pattern.search(str(text)))"
   ]
  },
  {
   "cell_type": "code",
   "execution_count": 6,
   "metadata": {
    "colab": {
     "base_uri": "https://localhost:8080/"
    },
    "executionInfo": {
     "elapsed": 1697,
     "status": "ok",
     "timestamp": 1714352239361,
     "user": {
      "displayName": "Manar Ok",
      "userId": "03240825900900191871"
     },
     "user_tz": 240
    },
    "id": "ws6mfg4LA2j2",
    "outputId": "de544bee-a5ab-4659-d928-34c6a5552b2e"
   },
   "outputs": [
    {
     "name": "stdout",
     "output_type": "stream",
     "text": [
      "The correct answers: 1478\n",
      "The accuracy: 79.54790096878364\n",
      "The wrong answers: 380\n",
      "The PointwiseScore: 13.83\n"
     ]
    }
   ],
   "source": [
    "correct_answer=0\n",
    "for index, row in df.iterrows():\n",
    "    cell_content = row[1]\n",
    "\n",
    "    if check_pattern(cell_content, pattern_regex1) | check_pattern(cell_content, pattern_regex2) | check_pattern(cell_content, pattern_regex3) | check_pattern(cell_content, pattern_regex4)| check_pattern(cell_content, pattern_regex5) | check_pattern(cell_content, pattern_regex6) | check_pattern(cell_content, pattern_regex7) | check_pattern(cell_content, pattern_regex8) | check_pattern(cell_content, pattern_regex9) | check_pattern(cell_content, pattern_regex10) | check_pattern(cell_content, pattern_regex11) | check_pattern(cell_content, pattern_regex12) | check_pattern(cell_content, pattern_regex13) | check_pattern(cell_content, pattern_regex14) | check_pattern(cell_content, pattern_regex15) | check_pattern(cell_content, pattern_regex16) | check_pattern(cell_content, pattern_regex17) | check_pattern(cell_content, pattern_regex18) | check_pattern(cell_content, pattern_regex19) | check_pattern(cell_content, pattern_regex20) | check_pattern(cell_content, pattern_regex21) | check_pattern(cell_content, pattern_regex22):\n",
    "        correct_answer += 1\n",
    "\n",
    "print(f\"The correct answers: {correct_answer}\")\n",
    "Accuracy=(correct_answer/1858)\n",
    "Accuracy_percentage=Accuracy * 100\n",
    "print(f\"The accuracy: {Accuracy_percentage}\")\n",
    "wrong_answer=1858-correct_answer\n",
    "print(f\"The wrong answers: {wrong_answer}\")\n",
    "PointwiseScore=((Accuracy*1858) - 0.25*(1858 - Accuracy*1858))/100\n",
    "print(f\"The PointwiseScore: {PointwiseScore}\")\n"
   ]
  }
 ],
 "metadata": {
  "colab": {
   "authorship_tag": "ABX9TyO5xCFXr3Dy+YoNryVZxLHB",
   "provenance": []
  },
  "kernelspec": {
   "display_name": "Python 3 (ipykernel)",
   "language": "python",
   "name": "python3"
  },
  "language_info": {
   "codemirror_mode": {
    "name": "ipython",
    "version": 3
   },
   "file_extension": ".py",
   "mimetype": "text/x-python",
   "name": "python",
   "nbconvert_exporter": "python",
   "pygments_lexer": "ipython3",
   "version": "3.9.12"
  }
 },
 "nbformat": 4,
 "nbformat_minor": 1
}
