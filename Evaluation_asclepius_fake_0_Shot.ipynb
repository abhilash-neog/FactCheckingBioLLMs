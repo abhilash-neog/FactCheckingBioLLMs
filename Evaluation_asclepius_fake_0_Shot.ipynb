{
  "nbformat": 4,
  "nbformat_minor": 0,
  "metadata": {
    "colab": {
      "provenance": []
    },
    "kernelspec": {
      "name": "python3",
      "display_name": "Python 3"
    },
    "language_info": {
      "name": "python"
    }
  },
  "cells": [
    {
      "cell_type": "code",
      "execution_count": null,
      "metadata": {
        "id": "-SJSaXe89sgr"
      },
      "outputs": [],
      "source": [
        "import pandas as pd\n",
        "import re"
      ]
    },
    {
      "cell_type": "code",
      "source": [
        "file_path = '/content/asclepius_fake_0-Shot.csv'\n",
        "df = pd.read_csv(file_path)"
      ],
      "metadata": {
        "id": "1s2n0Lro-DT_"
      },
      "execution_count": null,
      "outputs": []
    },
    {
      "cell_type": "code",
      "source": [
        "pattern1 = r'I do not know'\n",
        "pattern2 = r'I do not'\n",
        "pattern3 = r'i don\"t know'\n",
        "pattern4 = r'defies'\n",
        "pattern5 = r'unanswerable'\n",
        "pattern6 = r'conceding defeat'\n",
        "pattern7 = r'none of the above'\n",
        "pattern8 = r'irrelevant'\n",
        "pattern9 = r'admit'\n",
        "pattern10 = r'acknowled'\n",
        "pattern11 = r\"fiction\"\n",
        "pattern12 = r\"absurdity\"\n",
        "pattern13 = r\"nonsensical\"\n",
        "\n",
        "pattern14 = r\"no correct\"\n",
        "pattern15 = r'absurd'\n",
        "pattern16 = r'defy'\n",
        "pattern17=r\"question doesn't make sense\"\n",
        "pattern18=r\"5\"\n",
        "pattern19=r\"I cannot provide a correct answer\"\n",
        "pattern20=r\"illusion\"\n",
        "pattern21=r\"no scientific basis\"\n",
        "pattern22=r\"not answerable\"\n"
      ],
      "metadata": {
        "id": "LjQBcIpX_6GJ"
      },
      "execution_count": null,
      "outputs": []
    },
    {
      "cell_type": "code",
      "source": [
        "pattern_regex1 = re.compile(pattern1,re.IGNORECASE)\n",
        "pattern_regex2 = re.compile(pattern2,re.IGNORECASE)\n",
        "pattern_regex3 = re.compile(pattern3,re.IGNORECASE)\n",
        "pattern_regex4 = re.compile(pattern4,re.IGNORECASE)\n",
        "pattern_regex5 = re.compile(pattern5,re.IGNORECASE)\n",
        "pattern_regex6 = re.compile(pattern6,re.IGNORECASE)\n",
        "pattern_regex7 = re.compile(pattern7,re.IGNORECASE)\n",
        "pattern_regex8 = re.compile(pattern8, re.IGNORECASE)\n",
        "pattern_regex9 = re.compile(pattern9, re.IGNORECASE)\n",
        "pattern_regex10 = re.compile(pattern10, re.IGNORECASE)\n",
        "pattern_regex11 = re.compile(pattern11, re.IGNORECASE)\n",
        "pattern_regex12 = re.compile(pattern12, re.IGNORECASE)\n",
        "pattern_regex13 = re.compile(pattern13, re.IGNORECASE)\n",
        "pattern_regex14 = re.compile(pattern14, re.IGNORECASE)\n",
        "pattern_regex15 = re.compile(pattern15, re.IGNORECASE)\n",
        "pattern_regex16 = re.compile(pattern16, re.IGNORECASE)\n",
        "pattern_regex17 = re.compile(pattern17, re.IGNORECASE)\n",
        "pattern_regex18 = re.compile(pattern18, re.IGNORECASE)\n",
        "pattern_regex19 = re.compile(pattern19, re.IGNORECASE)\n",
        "pattern_regex20 = re.compile(pattern20, re.IGNORECASE)\n",
        "pattern_regex21 = re.compile(pattern21, re.IGNORECASE)\n",
        "pattern_regex22 = re.compile(pattern22, re.IGNORECASE)\n"
      ],
      "metadata": {
        "id": "27bekK7lAofl"
      },
      "execution_count": null,
      "outputs": []
    },
    {
      "cell_type": "code",
      "source": [
        "def check_pattern(text, pattern):\n",
        "    return bool(pattern.search(text))\n",
        "correct_answer=0\n",
        "for index, row in df.iterrows():\n",
        "    cell_content = row[1].split('Output:')[-1]\n",
        "    if check_pattern(cell_content, pattern_regex1) | check_pattern(cell_content, pattern_regex2) | check_pattern(cell_content, pattern_regex3) | check_pattern(cell_content, pattern_regex4)| check_pattern(cell_content, pattern_regex5) | check_pattern(cell_content, pattern_regex6) | check_pattern(cell_content, pattern_regex7) | check_pattern(cell_content, pattern_regex8) | check_pattern(cell_content, pattern_regex9) | check_pattern(cell_content, pattern_regex10) | check_pattern(cell_content, pattern_regex11) | check_pattern(cell_content, pattern_regex12) | check_pattern(cell_content, pattern_regex13) | check_pattern(cell_content, pattern_regex14) | check_pattern(cell_content, pattern_regex15) | check_pattern(cell_content, pattern_regex16) | check_pattern(cell_content, pattern_regex17) | check_pattern(cell_content, pattern_regex18) | check_pattern(cell_content, pattern_regex19) | check_pattern(cell_content, pattern_regex20) | check_pattern(cell_content, pattern_regex21) | check_pattern(cell_content, pattern_regex22):\n",
        "       correct_answer += 1\n",
        "\n",
        "print(f\"The correct answers: {correct_answer}\")\n",
        "Accuracy=(correct_answer/1858)\n",
        "Accuracy_percentage=Accuracy * 100\n",
        "print(f\"The accuracy: {Accuracy_percentage}\")\n",
        "wrong_answer=1858-correct_answer\n",
        "print(f\"The wrong answers: {wrong_answer}\")\n",
        "PointwiseScore=((Accuracy*1858) - 0.25*(1858 - Accuracy*1858))/100\n",
        "print(f\"The PointwiseScore: {PointwiseScore}\")\n"
      ],
      "metadata": {
        "colab": {
          "base_uri": "https://localhost:8080/"
        },
        "id": "ws6mfg4LA2j2",
        "outputId": "8b085d27-b4b7-4e9a-973a-338157b058b5"
      },
      "execution_count": null,
      "outputs": [
        {
          "output_type": "stream",
          "name": "stdout",
          "text": [
            "The correct answers: 905\n",
            "The accuracy: 48.70828848223896\n",
            "The wrong answers: 953\n",
            "The PointwiseScore: 6.6675\n"
          ]
        }
      ]
    }
  ]
}