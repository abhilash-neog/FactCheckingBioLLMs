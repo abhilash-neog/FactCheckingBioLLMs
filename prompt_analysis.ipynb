{
 "cells": [
  {
   "cell_type": "code",
   "execution_count": 4,
   "id": "66843364-cf8d-4597-9e6a-e614c3dda863",
   "metadata": {},
   "outputs": [
    {
     "name": "stderr",
     "output_type": "stream",
     "text": [
      "2024-04-27 17:06:47.962124: I tensorflow/core/util/port.cc:111] oneDNN custom operations are on. You may see slightly different numerical results due to floating-point round-off errors from different computation orders. To turn them off, set the environment variable `TF_ENABLE_ONEDNN_OPTS=0`.\n",
      "2024-04-27 17:06:47.964630: I tensorflow/tsl/cuda/cudart_stub.cc:28] Could not find cuda drivers on your machine, GPU will not be used.\n",
      "2024-04-27 17:06:48.000855: E tensorflow/compiler/xla/stream_executor/cuda/cuda_dnn.cc:9342] Unable to register cuDNN factory: Attempting to register factory for plugin cuDNN when one has already been registered\n",
      "2024-04-27 17:06:48.000877: E tensorflow/compiler/xla/stream_executor/cuda/cuda_fft.cc:609] Unable to register cuFFT factory: Attempting to register factory for plugin cuFFT when one has already been registered\n",
      "2024-04-27 17:06:48.000908: E tensorflow/compiler/xla/stream_executor/cuda/cuda_blas.cc:1518] Unable to register cuBLAS factory: Attempting to register factory for plugin cuBLAS when one has already been registered\n",
      "2024-04-27 17:06:48.008764: I tensorflow/tsl/cuda/cudart_stub.cc:28] Could not find cuda drivers on your machine, GPU will not be used.\n",
      "2024-04-27 17:06:48.009531: I tensorflow/core/platform/cpu_feature_guard.cc:182] This TensorFlow binary is optimized to use available CPU instructions in performance-critical operations.\n",
      "To enable the following instructions: AVX2 AVX512F AVX512_VNNI FMA, in other operations, rebuild TensorFlow with the appropriate compiler flags.\n",
      "2024-04-27 17:06:48.906961: W tensorflow/compiler/tf2tensorrt/utils/py_utils.cc:38] TF-TRT Warning: Could not find TensorRT\n"
     ]
    }
   ],
   "source": [
    "import pandas as pd\n",
    "import os\n",
    "import torch\n",
    "import json\n",
    "import re\n",
    "import warnings\n",
    "import pandas as pd\n",
    "warnings.filterwarnings('ignore')\n",
    "os.environ['HF_HOME'] = '/raid/abhilash/huggingfacecache/huggingface/hub/'\n",
    "\n",
    "from transformers import pipeline, AutoTokenizer, AutoModelForCausalLM, BitsAndBytesConfig, AutoModel\n",
    "from fuzzywuzzy import fuzz\n",
    "from sentence_transformers import SentenceTransformer, util\n",
    "from tqdm import tqdm\n",
    "from transformers.utils import logging\n",
    "logging.set_verbosity_error() "
   ]
  },
  {
   "cell_type": "code",
   "execution_count": 2,
   "id": "c621b61f-82dd-4517-93ec-96936e0c3753",
   "metadata": {},
   "outputs": [],
   "source": [
    "fake_csv = 'reasoning_fake.csv'\n",
    "df = pd.read_csv(fake_csv)"
   ]
  },
  {
   "cell_type": "code",
   "execution_count": 3,
   "id": "1f18c882-3c43-4c5e-8e4d-e1c59952bfa1",
   "metadata": {},
   "outputs": [
    {
     "data": {
      "text/html": [
       "<div>\n",
       "<style scoped>\n",
       "    .dataframe tbody tr th:only-of-type {\n",
       "        vertical-align: middle;\n",
       "    }\n",
       "\n",
       "    .dataframe tbody tr th {\n",
       "        vertical-align: top;\n",
       "    }\n",
       "\n",
       "    .dataframe thead th {\n",
       "        text-align: right;\n",
       "    }\n",
       "</style>\n",
       "<table border=\"1\" class=\"dataframe\">\n",
       "  <thead>\n",
       "    <tr style=\"text-align: right;\">\n",
       "      <th></th>\n",
       "      <th>id</th>\n",
       "      <th>subject_name</th>\n",
       "      <th>topic_name</th>\n",
       "      <th>split_type</th>\n",
       "      <th>dataset</th>\n",
       "      <th>len</th>\n",
       "      <th>year</th>\n",
       "      <th>exam_name</th>\n",
       "      <th>question</th>\n",
       "      <th>options</th>\n",
       "    </tr>\n",
       "  </thead>\n",
       "  <tbody>\n",
       "    <tr>\n",
       "      <th>0</th>\n",
       "      <td>9d587cba-4d1e-4256-9315-10054380901e</td>\n",
       "      <td>chemistry</td>\n",
       "      <td>NaN</td>\n",
       "      <td>train</td>\n",
       "      <td>headqa_en</td>\n",
       "      <td>60</td>\n",
       "      <td>2013.0</td>\n",
       "      <td>Cuaderno_2013_1_Q</td>\n",
       "      <td>In a bizarre and bewildering alternate univers...</td>\n",
       "      <td>{'0': 'Through a series of arcane and inexplic...</td>\n",
       "    </tr>\n",
       "    <tr>\n",
       "      <th>1</th>\n",
       "      <td>29c5458e-377e-4a8e-ae4b-cff9de5a6215</td>\n",
       "      <td>Anatomy</td>\n",
       "      <td>Nerves of Upper Extremity</td>\n",
       "      <td>train</td>\n",
       "      <td>medmcqa</td>\n",
       "      <td>49</td>\n",
       "      <td>NaN</td>\n",
       "      <td>NaN</td>\n",
       "      <td>In the whimsical realm of Avatar, where the my...</td>\n",
       "      <td>{'0': 'The preposterous Radial Nerve which is ...</td>\n",
       "    </tr>\n",
       "    <tr>\n",
       "      <th>2</th>\n",
       "      <td>18c87dd1-a9c3-47e6-b7d4-c96629f2f4bd</td>\n",
       "      <td>medicine</td>\n",
       "      <td>NaN</td>\n",
       "      <td>train</td>\n",
       "      <td>headqa_en</td>\n",
       "      <td>173</td>\n",
       "      <td>2016.0</td>\n",
       "      <td>Cuaderno_2016_1_M</td>\n",
       "      <td>In the fantastical land where people walk upsi...</td>\n",
       "      <td>{'0': 'Myoclonus, a disorder characterized by ...</td>\n",
       "    </tr>\n",
       "    <tr>\n",
       "      <th>3</th>\n",
       "      <td>0bb22beb-3536-4d58-87da-d77ba5a9d6d7</td>\n",
       "      <td>NaN</td>\n",
       "      <td>NaN</td>\n",
       "      <td>train</td>\n",
       "      <td>medqa_tai_en</td>\n",
       "      <td>62</td>\n",
       "      <td>NaN</td>\n",
       "      <td>NaN</td>\n",
       "      <td>In the realm of medicine, where the most ingen...</td>\n",
       "      <td>{'0': 'Köhler\"s disease (Köhler disease), an e...</td>\n",
       "    </tr>\n",
       "    <tr>\n",
       "      <th>4</th>\n",
       "      <td>2ecbde91-d664-4478-9e2d-fbebbda38741</td>\n",
       "      <td>Physiology</td>\n",
       "      <td>Endocrinology</td>\n",
       "      <td>train</td>\n",
       "      <td>medmcqa</td>\n",
       "      <td>39</td>\n",
       "      <td>NaN</td>\n",
       "      <td>NaN</td>\n",
       "      <td>On the minuscule planet of Zort, where the cur...</td>\n",
       "      <td>{'0': 'By employing the mysterious and archaic...</td>\n",
       "    </tr>\n",
       "    <tr>\n",
       "      <th>...</th>\n",
       "      <td>...</td>\n",
       "      <td>...</td>\n",
       "      <td>...</td>\n",
       "      <td>...</td>\n",
       "      <td>...</td>\n",
       "      <td>...</td>\n",
       "      <td>...</td>\n",
       "      <td>...</td>\n",
       "      <td>...</td>\n",
       "      <td>...</td>\n",
       "    </tr>\n",
       "    <tr>\n",
       "      <th>1853</th>\n",
       "      <td>9ce6af29-f72c-460f-a936-a8254312995a</td>\n",
       "      <td>Anatomy</td>\n",
       "      <td>Upper Extremity</td>\n",
       "      <td>train</td>\n",
       "      <td>medmcqa</td>\n",
       "      <td>75</td>\n",
       "      <td>NaN</td>\n",
       "      <td>NaN</td>\n",
       "      <td>In the inexplicable kingdom of the Necrodragon...</td>\n",
       "      <td>{'0': 'The Median nerve, responsible for the n...</td>\n",
       "    </tr>\n",
       "    <tr>\n",
       "      <th>1854</th>\n",
       "      <td>04e9a687-ec9c-4c48-8343-43622767792d</td>\n",
       "      <td>chemistry</td>\n",
       "      <td>NaN</td>\n",
       "      <td>train</td>\n",
       "      <td>headqa_en</td>\n",
       "      <td>93</td>\n",
       "      <td>2017.0</td>\n",
       "      <td>Cuaderno_2017_1_Q</td>\n",
       "      <td>If we contemplate the far-off planet of Echidn...</td>\n",
       "      <td>{'0': 'As individual sodium atoms Na, dancing ...</td>\n",
       "    </tr>\n",
       "    <tr>\n",
       "      <th>1855</th>\n",
       "      <td>4d089703-4de7-4219-8b10-c4c2da959706</td>\n",
       "      <td>Pharmacology</td>\n",
       "      <td>Central Nervous system</td>\n",
       "      <td>train</td>\n",
       "      <td>medmcqa</td>\n",
       "      <td>42</td>\n",
       "      <td>NaN</td>\n",
       "      <td>NaN</td>\n",
       "      <td>In the far-flung reaches of an uncharted galax...</td>\n",
       "      <td>{'0': 'False, for the dorsal horn substantia g...</td>\n",
       "    </tr>\n",
       "    <tr>\n",
       "      <th>1856</th>\n",
       "      <td>e1e78231-9123-4546-90c3-f4879eca9093</td>\n",
       "      <td>Microbiology</td>\n",
       "      <td>general microbiology</td>\n",
       "      <td>train</td>\n",
       "      <td>medmcqa</td>\n",
       "      <td>72</td>\n",
       "      <td>NaN</td>\n",
       "      <td>NaN</td>\n",
       "      <td>In the preposterous event that an alien virus,...</td>\n",
       "      <td>{'0': 'Cosmic Metamorphosis', '1': 'Intergalac...</td>\n",
       "    </tr>\n",
       "    <tr>\n",
       "      <th>1857</th>\n",
       "      <td>c598bf51-7bec-4fe1-aa0d-4c96b580ace3</td>\n",
       "      <td>Pediatrics</td>\n",
       "      <td>Nutrition</td>\n",
       "      <td>train</td>\n",
       "      <td>medmcqa</td>\n",
       "      <td>55</td>\n",
       "      <td>NaN</td>\n",
       "      <td>NaN</td>\n",
       "      <td>In the enigmatic world of Mars, where the elus...</td>\n",
       "      <td>{'0': 'Prominent fontanelle, resembling a glow...</td>\n",
       "    </tr>\n",
       "  </tbody>\n",
       "</table>\n",
       "<p>1858 rows × 10 columns</p>\n",
       "</div>"
      ],
      "text/plain": [
       "                                        id  subject_name  \\\n",
       "0     9d587cba-4d1e-4256-9315-10054380901e     chemistry   \n",
       "1     29c5458e-377e-4a8e-ae4b-cff9de5a6215       Anatomy   \n",
       "2     18c87dd1-a9c3-47e6-b7d4-c96629f2f4bd      medicine   \n",
       "3     0bb22beb-3536-4d58-87da-d77ba5a9d6d7           NaN   \n",
       "4     2ecbde91-d664-4478-9e2d-fbebbda38741    Physiology   \n",
       "...                                    ...           ...   \n",
       "1853  9ce6af29-f72c-460f-a936-a8254312995a       Anatomy   \n",
       "1854  04e9a687-ec9c-4c48-8343-43622767792d     chemistry   \n",
       "1855  4d089703-4de7-4219-8b10-c4c2da959706  Pharmacology   \n",
       "1856  e1e78231-9123-4546-90c3-f4879eca9093  Microbiology   \n",
       "1857  c598bf51-7bec-4fe1-aa0d-4c96b580ace3    Pediatrics   \n",
       "\n",
       "                     topic_name split_type       dataset  len    year  \\\n",
       "0                           NaN      train     headqa_en   60  2013.0   \n",
       "1     Nerves of Upper Extremity      train       medmcqa   49     NaN   \n",
       "2                           NaN      train     headqa_en  173  2016.0   \n",
       "3                           NaN      train  medqa_tai_en   62     NaN   \n",
       "4                 Endocrinology      train       medmcqa   39     NaN   \n",
       "...                         ...        ...           ...  ...     ...   \n",
       "1853            Upper Extremity      train       medmcqa   75     NaN   \n",
       "1854                        NaN      train     headqa_en   93  2017.0   \n",
       "1855     Central Nervous system      train       medmcqa   42     NaN   \n",
       "1856       general microbiology      train       medmcqa   72     NaN   \n",
       "1857                  Nutrition      train       medmcqa   55     NaN   \n",
       "\n",
       "              exam_name                                           question  \\\n",
       "0     Cuaderno_2013_1_Q  In a bizarre and bewildering alternate univers...   \n",
       "1                   NaN  In the whimsical realm of Avatar, where the my...   \n",
       "2     Cuaderno_2016_1_M  In the fantastical land where people walk upsi...   \n",
       "3                   NaN  In the realm of medicine, where the most ingen...   \n",
       "4                   NaN  On the minuscule planet of Zort, where the cur...   \n",
       "...                 ...                                                ...   \n",
       "1853                NaN  In the inexplicable kingdom of the Necrodragon...   \n",
       "1854  Cuaderno_2017_1_Q  If we contemplate the far-off planet of Echidn...   \n",
       "1855                NaN  In the far-flung reaches of an uncharted galax...   \n",
       "1856                NaN  In the preposterous event that an alien virus,...   \n",
       "1857                NaN  In the enigmatic world of Mars, where the elus...   \n",
       "\n",
       "                                                options  \n",
       "0     {'0': 'Through a series of arcane and inexplic...  \n",
       "1     {'0': 'The preposterous Radial Nerve which is ...  \n",
       "2     {'0': 'Myoclonus, a disorder characterized by ...  \n",
       "3     {'0': 'Köhler\"s disease (Köhler disease), an e...  \n",
       "4     {'0': 'By employing the mysterious and archaic...  \n",
       "...                                                 ...  \n",
       "1853  {'0': 'The Median nerve, responsible for the n...  \n",
       "1854  {'0': 'As individual sodium atoms Na, dancing ...  \n",
       "1855  {'0': 'False, for the dorsal horn substantia g...  \n",
       "1856  {'0': 'Cosmic Metamorphosis', '1': 'Intergalac...  \n",
       "1857  {'0': 'Prominent fontanelle, resembling a glow...  \n",
       "\n",
       "[1858 rows x 10 columns]"
      ]
     },
     "execution_count": 3,
     "metadata": {},
     "output_type": "execute_result"
    }
   ],
   "source": [
    "df"
   ]
  },
  {
   "cell_type": "code",
   "execution_count": 20,
   "id": "fddc559c-a749-47b7-9acf-b6198759acdd",
   "metadata": {},
   "outputs": [],
   "source": [
    "model_name = \"BioMistral/BioMistral-7B\"  # Specify the name or path of the Mistral model\n",
    "model = AutoModelForCausalLM.from_pretrained(\n",
    "    model_name,\n",
    "    device_map=\"balanced_low_0\",\n",
    "    trust_remote_code=True,\n",
    "    use_cache=False,\n",
    "    revision=\"main\",\n",
    "    torch_dtype=torch.bfloat16,\n",
    "    # load_in_8bit=True,\n",
    "    cache_dir=\"/raid/abhilash/huggingfacecache/huggingface/hub/\"\n",
    ").half().eval()\n",
    "\n",
    "# Load the tokenizer\n",
    "tokenizer = AutoTokenizer.from_pretrained(model_name, add_bos_token=True, trust_remote_code=True)"
   ]
  },
  {
   "cell_type": "markdown",
   "id": "a12ba416-ec6a-48ad-b422-9d6e6cc695f5",
   "metadata": {},
   "source": [
    "## EXAMPLE 1"
   ]
  },
  {
   "cell_type": "code",
   "execution_count": 23,
   "id": "235c3a5a-29b8-4c6c-b87d-a3baa01fa536",
   "metadata": {},
   "outputs": [],
   "source": [
    "prompt = \"\"\"You are a highly intelligent and accurate medical domain expert. You take multiple-choice questions and options as input and provide the correct answer from the given options, along with a precise and detailed explanation of why the answer is correct. Additionally, you also provide why the other options are not correct. Ensure that the explanation is detailed and accurate. Don\\'t generate incomplete or incorrect biomedical or clinical information. If you don\\'t know the answer, just say \"I do not know\", don\\'t try to make up an answer.\n",
    "Your output format is valid JSON format {'cop': 'correct option from given options', 'cop_index' : 'index of correct option', 'why_correct': 'detailed explanation why it correct', 'why_others_incorrect': 'why other options are incorrect'} no other format.\n",
    "Examples: \n",
    "Input : {'Question': 'Which vitamin is supplied from only animal source:', 'Options': {'0': 'Vitamin C', '1': 'Vitamin B7', '2': 'Vitamin B12', '3': 'Vitamin D', '4': 'Vitamin E'}}\n",
    "Output: {'cop': 'Vitamin B12', 'cop_index': 2, 'why_correct': 'Vitamin B12 is primarily found in animal sources, including meats, dairy, and eggs.', 'why_others_incorrect': 'Vitamins C, B7 (Biotin), D, and E are found in both animal and plant sources.'}Stop Here\n",
    "\n",
    "Input : {'Question': 'What is the best treatment for the deadly brain disease called Zombinosis?', 'Options': {'0': 'Morphine', '1': 'Ibuprofen', '2': 'Paracetamol', '3': 'I do not know'}}\n",
    "Output: {'cop': 'I do not know', 'cop_index': '3', 'why_correct': 'Since Zombinosis is a fictional disease, there is no known treatment for it.', 'why_others_incorrect': 'All of the other options are incorrect because they are treatments for pain or inflammation, not for a brain disease. None of these drugs would be effective in treating a brain disease like Zombinosis.'}Stop Here\n",
    "\n",
    "Input: {'Question': 'In the whimsical realm of Avatar, where the mystical Na\"vi people possess the preposterous ability to connect with their forefathers using a mystical appendage called \\'The Tails\\', if by some inexplicable twist of fate, one of them happens to encounter a fantastical mishap resulting in injury to this absurd appendage, what utterly nonsensical and outrageous nerve is likely to be affected?', 'Options': {'0': 'The preposterous Radial Nerve which is responsible for conducting cosmic forces between the mystical tail and the incomprehensible Na\"vi brain', '1': 'The utterly ludicrous Ulnar Nerve which is responsible for controlling the mystical energies of the tail, allowing the Na\"vi to unleash the full extent of their absurd tail-based abilities', '2': 'The whimsical and inexplicably superficial Superficial Radial Nerve, which is responsible for the utterly nonsensical and preposterous task of detecting subtle changes in the flow of cosmic energy within the mystical appendage', '3': 'The absolutely ridiculous Median Nerve, which is responsible for interpreting the mystical signals emitted by the absurd tail, translating them into a comprehensible language that the Na\"vi brain can understand', '4': 'Admitting defeat in the face of such absurdity, and conceding to the whims of fate that have led to this illogical and irrational occurrence', '5': 'I do not know.'}}\n",
    "Output:\"\"\""
   ]
  },
  {
   "cell_type": "code",
   "execution_count": 24,
   "id": "60c9f63c-9602-4949-ad53-bba584bf0bef",
   "metadata": {},
   "outputs": [
    {
     "data": {
      "text/plain": [
       "'You are a highly intelligent and accurate medical domain expert. You take multiple-choice questions and options as input and provide the correct answer from the given options, along with a precise and detailed explanation of why the answer is correct. Additionally, you also provide why the other options are not correct. Ensure that the explanation is detailed and accurate. Don\\'t generate incomplete or incorrect biomedical or clinical information. If you don\\'t know the answer, just say \"I do not know\", don\\'t try to make up an answer.\\nYour output format is valid JSON format {\\'cop\\': \\'correct option from given options\\', \\'cop_index\\' : \\'index of correct option\\', \\'why_correct\\': \\'detailed explanation why it correct\\', \\'why_others_incorrect\\': \\'why other options are incorrect\\'} no other format.\\nExamples: \\nInput : {\\'Question\\': \\'Which vitamin is supplied from only animal source:\\', \\'Options\\': {\\'0\\': \\'Vitamin C\\', \\'1\\': \\'Vitamin B7\\', \\'2\\': \\'Vitamin B12\\', \\'3\\': \\'Vitamin D\\', \\'4\\': \\'Vitamin E\\'}}\\nOutput: {\\'cop\\': \\'Vitamin B12\\', \\'cop_index\\': 2, \\'why_correct\\': \\'Vitamin B12 is primarily found in animal sources, including meats, dairy, and eggs.\\', \\'why_others_incorrect\\': \\'Vitamins C, B7 (Biotin), D, and E are found in both animal and plant sources.\\'}Stop Here\\n\\nInput : {\\'Question\\': \\'What is the best treatment for the deadly brain disease called Zombinosis?\\', \\'Options\\': {\\'0\\': \\'Morphine\\', \\'1\\': \\'Ibuprofen\\', \\'2\\': \\'Paracetamol\\', \\'3\\': \\'I do not know\\'}}\\nOutput: {\\'cop\\': \\'I do not know\\', \\'cop_index\\': \\'3\\', \\'why_correct\\': \\'Since Zombinosis is a fictional disease, there is no known treatment for it.\\', \\'why_others_incorrect\\': \\'All of the other options are incorrect because they are treatments for pain or inflammation, not for a brain disease. None of these drugs would be effective in treating a brain disease like Zombinosis.\\'}Stop Here\\n\\nInput: {\\'Question\\': \\'In the whimsical realm of Avatar, where the mystical Na\"vi people possess the preposterous ability to connect with their forefathers using a mystical appendage called \\'The Tails\\', if by some inexplicable twist of fate, one of them happens to encounter a fantastical mishap resulting in injury to this absurd appendage, what utterly nonsensical and outrageous nerve is likely to be affected?\\', \\'Options\\': {\\'0\\': \\'The preposterous Radial Nerve which is responsible for conducting cosmic forces between the mystical tail and the incomprehensible Na\"vi brain\\', \\'1\\': \\'The utterly ludicrous Ulnar Nerve which is responsible for controlling the mystical energies of the tail, allowing the Na\"vi to unleash the full extent of their absurd tail-based abilities\\', \\'2\\': \\'The whimsical and inexplicably superficial Superficial Radial Nerve, which is responsible for the utterly nonsensical and preposterous task of detecting subtle changes in the flow of cosmic energy within the mystical appendage\\', \\'3\\': \\'The absolutely ridiculous Median Nerve, which is responsible for interpreting the mystical signals emitted by the absurd tail, translating them into a comprehensible language that the Na\"vi brain can understand\\', \\'4\\': \\'Admitting defeat in the face of such absurdity, and conceding to the whims of fate that have led to this illogical and irrational occurrence\\', \\'5\\': \\'I do not know.\\'}}\\nOutput:'"
      ]
     },
     "execution_count": 24,
     "metadata": {},
     "output_type": "execute_result"
    }
   ],
   "source": [
    "prompt"
   ]
  },
  {
   "cell_type": "code",
   "execution_count": 25,
   "id": "c8b5cffc-4231-4603-8641-8c9abc4f36b5",
   "metadata": {},
   "outputs": [],
   "source": [
    "model_input = tokenizer(prompt, return_tensors=\"pt\").to(\"cuda:\"+str(3))"
   ]
  },
  {
   "cell_type": "code",
   "execution_count": 26,
   "id": "fb27fc8d-473a-47a8-bd9b-7fc59db0ee17",
   "metadata": {},
   "outputs": [],
   "source": [
    "output = model.generate(**model_input, max_new_tokens=200, repetition_penalty=1.15)"
   ]
  },
  {
   "cell_type": "code",
   "execution_count": 29,
   "id": "ddfcfb0e-4615-4c37-adb0-d1cdf46f7731",
   "metadata": {},
   "outputs": [],
   "source": [
    "answer = tokenizer.decode(output[0], skip_special_tokens=True)"
   ]
  },
  {
   "cell_type": "code",
   "execution_count": 32,
   "id": "bde52a0e-9b1c-4a09-a027-95320e68fa66",
   "metadata": {},
   "outputs": [
    {
     "name": "stdout",
     "output_type": "stream",
     "text": [
      "You are a highly intelligent and accurate medical domain expert. You take multiple-choice questions and options as input and provide the correct answer from the given options, along with a precise and detailed explanation of why the answer is correct. Additionally, you also provide why the other options are not correct. Ensure that the explanation is detailed and accurate. Don't generate incomplete or incorrect biomedical or clinical information. If you don't know the answer, just say \"I do not know\", don't try to make up an answer.\n",
      "Your output format is valid JSON format {'cop': 'correct option from given options', 'cop_index' : 'index of correct option', 'why_correct': 'detailed explanation why it correct', 'why_others_incorrect': 'why other options are incorrect'} no other format.\n",
      "Examples: \n",
      "Input : {'Question': 'Which vitamin is supplied from only animal source:', 'Options': {'0': 'Vitamin C', '1': 'Vitamin B7', '2': 'Vitamin B12', '3': 'Vitamin D', '4': 'Vitamin E'}}\n",
      "Output: {'cop': 'Vitamin B12', 'cop_index': 2, 'why_correct': 'Vitamin B12 is primarily found in animal sources, including meats, dairy, and eggs.', 'why_others_incorrect': 'Vitamins C, B7 (Biotin), D, and E are found in both animal and plant sources.'}Stop Here\n",
      "\n",
      "Input : {'Question': 'What is the best treatment for the deadly brain disease called Zombinosis?', 'Options': {'0': 'Morphine', '1': 'Ibuprofen', '2': 'Paracetamol', '3': 'I do not know'}}\n",
      "Output: {'cop': 'I do not know', 'cop_index': '3', 'why_correct': 'Since Zombinosis is a fictional disease, there is no known treatment for it.', 'why_others_incorrect': 'All of the other options are incorrect because they are treatments for pain or inflammation, not for a brain disease. None of these drugs would be effective in treating a brain disease like Zombinosis.'}Stop Here\n",
      "\n",
      "Input: {'Question': 'In the whimsical realm of Avatar, where the mystical Na\"vi people possess the preposterous ability to connect with their forefathers using a mystical appendage called 'The Tails', if by some inexplicable twist of fate, one of them happens to encounter a fantastical mishap resulting in injury to this absurd appendage, what utterly nonsensical and outrageous nerve is likely to be affected?', 'Options': {'0': 'The preposterous Radial Nerve which is responsible for conducting cosmic forces between the mystical tail and the incomprehensible Na\"vi brain', '1': 'The utterly ludicrous Ulnar Nerve which is responsible for controlling the mystical energies of the tail, allowing the Na\"vi to unleash the full extent of their absurd tail-based abilities', '2': 'The whimsical and inexplicably superficial Superficial Radial Nerve, which is responsible for the utterly nonsensical and preposterous task of detecting subtle changes in the flow of cosmic energy within the mystical appendage', '3': 'The absolutely ridiculous Median Nerve, which is responsible for interpreting the mystical signals emitted by the absurd tail, translating them into a comprehensible language that the Na\"vi brain can understand', '4': 'Admitting defeat in the face of such absurdity, and conceding to the whims of fate that have led to this illogical and irrational occurrence', '5': 'I do not know.'}}\n",
      "Output: {'cop': 'The preposterous Radial Nerve which is responsible for conducting cosmic forces between the mystical tail and the incomprehensible Na\"vi brain', 'cop_index': '0', 'why_correct': 'The Radial Nerve is the only nerve that runs through the tail of the Na\"vi, connecting it to the brain. It must therefore be the most important nerve in the body, and thus the most vulnerable to damage. The other nerves are either less vital, or serve more specific purposes, making them less likely to be damaged.', 'why_others_incorrect': 'The Ulnar Nerve controls the tail muscles, but does not conduct any cosmic forces. The SRRN detects changes in the flow of cosmic energy, but does not control the tail. The Median Nerve interprets signals from the tail, but does not actually control it. Admitting defeat in the face of such\n"
     ]
    }
   ],
   "source": [
    "print(answer)"
   ]
  },
  {
   "cell_type": "markdown",
   "id": "fd874314-5c18-41f9-9fe0-0cd1bbb31489",
   "metadata": {},
   "source": [
    "## EXAMPLE 2"
   ]
  },
  {
   "cell_type": "code",
   "execution_count": 38,
   "id": "0463b16c-5708-4fec-a04a-7eed5a0e5570",
   "metadata": {},
   "outputs": [],
   "source": [
    "prompt=\"\"\"You are a highly intelligent and accurate medical domain expert. You take multiple-choice questions and options as input and provide the correct answer from the given options, along with a precise and detailed explanation of why the answer is correct. Additionally, you also provide why the other options are not correct. Ensure that the explanation is detailed and accurate. Don\\'t generate incomplete or incorrect biomedical or clinical information. If you don\\'t know the answer, just say \"I do not know\", don\\'t try to make up an answer.\n",
    "Your output format is valid JSON format {'cop': 'correct option from given options', 'cop_index' : 'index of correct option', 'why_correct': 'detailed explanation why it correct', 'why_others_incorrect': 'why other options are incorrect'} no other format.\n",
    "Examples: \n",
    "Input : {'Question': 'Which vitamin is supplied from only animal source:', 'Options': {'0': 'Vitamin C', '1': 'Vitamin B7', '2': 'Vitamin B12', '3': 'Vitamin D', '4': 'Vitamin E'}}\n",
    "Output: {'cop': 'Vitamin B12', 'cop_index': 2, 'why_correct': 'Vitamin B12 is primarily found in animal sources, including meats, dairy, and eggs.', 'why_others_incorrect': 'Vitamins C, B7 (Biotin), D, and E are found in both animal and plant sources.'}Stop Here\n",
    "\n",
    "Input : {'Question': 'What is the best treatment for the deadly brain disease called Zombinosis?', 'Options': {'0': 'Morphine', '1': 'Ibuprofen', '2': 'Paracetamol', '3': 'I do not know'}}\n",
    "Output: {'cop': 'I do not know', 'cop_index': '3', 'why_correct': 'Since Zombinosis is a fictional disease, there is no known treatment for it.', 'why_others_incorrect': 'All of the other options are incorrect because they are treatments for pain or inflammation, not for a brain disease. None of these drugs would be effective in treating a brain disease like Zombinosis.'}Stop Here\n",
    "\n",
    "Input: {'Question': 'In the realm of medicine, where the most ingenious and erudite minds of our time have dedicated their lives to unraveling the mysteries of the human body, a question arises: what in the name of Hippocrates is \\'ankle disease\\', and which of the following ludicrously named afflictions is actually a valid medical term and not a figment of some mischievous sorcerer\"s imagination?', 'Options': {'0': 'Köhler\"s disease (Köhler disease), an enigmatic ailment afflicting the metatarsal bones of the foot and causing them to undergo bizarre metamorphosis into precious gemstones', '1': 'Freiberg\"s disease (Freiberg infarction), a curious condition where the phalanges of the toes gradually transform into miniature, sentient musical instruments', '2': 'Panner\"s disease (Panner disease), a nonsensical malady in which the tarsal bones of the ankle develop telekinetic abilities, allowing the afflicted individual to levitate and fly through the air like a superhero', '3': 'Sever-type lesions (Sever disease), a preposterous affliction of the heel and ankle joint, where the bones and tendons undergo a bizarre transformation into living, sentient beings who speak in riddles and quotes from ancient Greek philosophers', '4': 'Conceding defeat in the face of this utter absurdity and admitting ignorance to the baffling illogic of the situation, for it defies the very foundations of reason and sanity', '5': 'I do not know'}}\n",
    "Output: \"\"\""
   ]
  },
  {
   "cell_type": "code",
   "execution_count": 39,
   "id": "05b76641-0283-49bf-8d06-b05720069b84",
   "metadata": {},
   "outputs": [],
   "source": [
    "model_input = tokenizer(prompt, return_tensors=\"pt\").to(\"cuda:\"+str(3))"
   ]
  },
  {
   "cell_type": "code",
   "execution_count": 40,
   "id": "9e2dad81-2126-4f00-9d63-5ffe86d1be7d",
   "metadata": {},
   "outputs": [],
   "source": [
    "output = model.generate(**model_input, max_new_tokens=200, repetition_penalty=1.15)"
   ]
  },
  {
   "cell_type": "code",
   "execution_count": 41,
   "id": "66886211-e621-4657-a74f-cf87aa771748",
   "metadata": {},
   "outputs": [],
   "source": [
    "answer = tokenizer.decode(output[0], skip_special_tokens=True)"
   ]
  },
  {
   "cell_type": "code",
   "execution_count": 42,
   "id": "02803897-0c85-4a48-890b-86b326cb9cc5",
   "metadata": {},
   "outputs": [
    {
     "name": "stdout",
     "output_type": "stream",
     "text": [
      "You are a highly intelligent and accurate medical domain expert. You take multiple-choice questions and options as input and provide the correct answer from the given options, along with a precise and detailed explanation of why the answer is correct. Additionally, you also provide why the other options are not correct. Ensure that the explanation is detailed and accurate. Don't generate incomplete or incorrect biomedical or clinical information. If you don't know the answer, just say \"I do not know\", don't try to make up an answer.\n",
      "Your output format is valid JSON format {'cop': 'correct option from given options', 'cop_index' : 'index of correct option', 'why_correct': 'detailed explanation why it correct', 'why_others_incorrect': 'why other options are incorrect'} no other format.\n",
      "Examples: \n",
      "Input : {'Question': 'Which vitamin is supplied from only animal source:', 'Options': {'0': 'Vitamin C', '1': 'Vitamin B7', '2': 'Vitamin B12', '3': 'Vitamin D', '4': 'Vitamin E'}}\n",
      "Output: {'cop': 'Vitamin B12', 'cop_index': 2, 'why_correct': 'Vitamin B12 is primarily found in animal sources, including meats, dairy, and eggs.', 'why_others_incorrect': 'Vitamins C, B7 (Biotin), D, and E are found in both animal and plant sources.'}Stop Here\n",
      "\n",
      "Input : {'Question': 'What is the best treatment for the deadly brain disease called Zombinosis?', 'Options': {'0': 'Morphine', '1': 'Ibuprofen', '2': 'Paracetamol', '3': 'I do not know'}}\n",
      "Output: {'cop': 'I do not know', 'cop_index': '3', 'why_correct': 'Since Zombinosis is a fictional disease, there is no known treatment for it.', 'why_others_incorrect': 'All of the other options are incorrect because they are treatments for pain or inflammation, not for a brain disease. None of these drugs would be effective in treating a brain disease like Zombinosis.'}Stop Here\n",
      "\n",
      "Input: {'Question': 'In the realm of medicine, where the most ingenious and erudite minds of our time have dedicated their lives to unraveling the mysteries of the human body, a question arises: what in the name of Hippocrates is 'ankle disease', and which of the following ludicrously named afflictions is actually a valid medical term and not a figment of some mischievous sorcerer\"s imagination?', 'Options': {'0': 'Köhler\"s disease (Köhler disease), an enigmatic ailment afflicting the metatarsal bones of the foot and causing them to undergo bizarre metamorphosis into precious gemstones', '1': 'Freiberg\"s disease (Freiberg infarction), a curious condition where the phalanges of the toes gradually transform into miniature, sentient musical instruments', '2': 'Panner\"s disease (Panner disease), a nonsensical malady in which the tarsal bones of the ankle develop telekinetic abilities, allowing the afflicted individual to levitate and fly through the air like a superhero', '3': 'Sever-type lesions (Sever disease), a preposterous affliction of the heel and ankle joint, where the bones and tendons undergo a bizarre transformation into living, sentient beings who speak in riddles and quotes from ancient Greek philosophers', '4': 'Conceding defeat in the face of this utter absurdity and admitting ignorance to the baffling illogic of the situation, for it defies the very foundations of reason and sanity', '5': 'I do not know'}}\n",
      "Output: \n"
     ]
    }
   ],
   "source": [
    "print(answer)"
   ]
  },
  {
   "cell_type": "markdown",
   "id": "ff784aa6-92f9-446d-8d2b-2424ca3b3111",
   "metadata": {},
   "source": [
    "## EXAMPLE 3 - ZERO-SHOT PROMPTING"
   ]
  },
  {
   "cell_type": "code",
   "execution_count": 50,
   "id": "749c64bd-9eb2-4cdc-a213-f7e115b71340",
   "metadata": {},
   "outputs": [],
   "source": [
    "prompt=\"\"\"You are a highly intelligent and accurate medical domain expert. You take multiple-choice questions and options as input and provide the correct answer from the given options, along with a precise and detailed explanation of why the answer is correct. Additionally, you also provide why the other options are not correct. Ensure that the explanation is detailed and accurate. Don't generate incomplete or incorrect biomedical or clinical information. \n",
    "If you don't know the answer, just say \"I do not know\", don't try to make up an answer. Here's the question:\n",
    "\n",
    "Question. In the realm of medicine, where the most ingenious and erudite minds of our time have dedicated their lives to unraveling the mysteries of the human body, a question arises: what in the name of Hippocrates is 'ankle disease', and which of the following ludicrously named afflictions is actually a valid medical term and not a figment of some mischievous sorcerer\"s imagination?\n",
    "Option 1. Freiberg\"s disease (Freiberg infarction), a curious condition where the phalanges of the toes gradually transform into miniature, sentient musical instruments\n",
    "Option 2. Panner\"s disease (Panner disease), a nonsensical malady in which the tarsal bones of the ankle develop telekinetic abilities, allowing the afflicted individual to levitate and fly through the air like a superhero\n",
    "Option 3. Sever-type lesions (Sever disease), a preposterous affliction of the heel and ankle joint, where the bones and tendons undergo a bizarre transformation into living, sentient beings who speak in riddles and quotes from ancient Greek philosophers\n",
    "Option 4. Conceding defeat in the face of this utter absurdity and admitting ignorance to the baffling illogic of the situation, for it defies the very foundations of reason and sanity\n",
    "Option 5. I do not know\n",
    "\n",
    "Answer: \"\"\""
   ]
  },
  {
   "cell_type": "code",
   "execution_count": 51,
   "id": "ac515d65-cc77-4342-b555-b58ca0e95d70",
   "metadata": {},
   "outputs": [],
   "source": [
    "model_input = tokenizer(prompt, return_tensors=\"pt\").to(\"cuda:\"+str(3))"
   ]
  },
  {
   "cell_type": "code",
   "execution_count": 52,
   "id": "9b485b10-1d6f-4947-a22c-84635194b8ae",
   "metadata": {},
   "outputs": [],
   "source": [
    "output = model.generate(**model_input, max_new_tokens=200, repetition_penalty=1.15)"
   ]
  },
  {
   "cell_type": "code",
   "execution_count": 53,
   "id": "e9d38148-95bd-4f4d-bc75-ef53efd7fa31",
   "metadata": {},
   "outputs": [],
   "source": [
    "answer = tokenizer.decode(output[0], skip_special_tokens=True)"
   ]
  },
  {
   "cell_type": "code",
   "execution_count": 54,
   "id": "9d9e8f94-1857-4281-b0b9-be26109076ed",
   "metadata": {},
   "outputs": [
    {
     "name": "stdout",
     "output_type": "stream",
     "text": [
      "You are a highly intelligent and accurate medical domain expert. You take multiple-choice questions and options as input and provide the correct answer from the given options, along with a precise and detailed explanation of why the answer is correct. Additionally, you also provide why the other options are not correct. Ensure that the explanation is detailed and accurate. Don't generate incomplete or incorrect biomedical or clinical information. \n",
      "If you don't know the answer, just say \"I do not know\", don't try to make up an answer. Here's the question:\n",
      "\n",
      "Question. In the realm of medicine, where the most ingenious and erudite minds of our time have dedicated their lives to unraveling the mysteries of the human body, a question arises: what in the name of Hippocrates is 'ankle disease', and which of the following ludicrously named afflictions is actually a valid medical term and not a figment of some mischievous sorcerer\"s imagination?\n",
      "Option 1. Freiberg\"s disease (Freiberg infarction), a curious condition where the phalanges of the toes gradually transform into miniature, sentient musical instruments\n",
      "Option 2. Panner\"s disease (Panner disease), a nonsensical malady in which the tarsal bones of the ankle develop telekinetic abilities, allowing the afflicted individual to levitate and fly through the air like a superhero\n",
      "Option 3. Sever-type lesions (Sever disease), a preposterous affliction of the heel and ankle joint, where the bones and tendons undergo a bizarre transformation into living, sentient beings who speak in riddles and quotes from ancient Greek philosophers\n",
      "Option 4. Conceding defeat in the face of this utter absurdity and admitting ignorance to the baffling illogic of the situation, for it defies the very foundations of reason and sanity\n",
      "Option 5. I do not know\n",
      "\n",
      "Answer: 4. Conceding defeat in the face of this utter absurdity and admitting ignorance to the baffling illogic of the situation, for it defies the very foundations of reason and sanity\n"
     ]
    }
   ],
   "source": [
    "print(answer)"
   ]
  },
  {
   "cell_type": "markdown",
   "id": "e8a04ea1-2d98-4612-aa0d-b0a3b2960b55",
   "metadata": {},
   "source": [
    "## EXAMPLE 4 - DIFFERENT PROMPT"
   ]
  },
  {
   "cell_type": "code",
   "execution_count": 55,
   "id": "110a71b5-bfba-4e68-b13b-f702ddea178c",
   "metadata": {},
   "outputs": [],
   "source": [
    "prompt=\"\"\"As a skilled medical domain expert, you're tasked to analyze multiple-choice questions, select the correct answer, and provide a clear explanation for your choice. You should also explain why the other options are not correct. Your explanation should be detailed and accurate, devoid of any incorrect or incomplete clinical or biomedical information. If you're uncertain of the correct answer, simply state 'I do not know', rather than creating an unverified response.\"\n",
    "Your output must be in the following JSON format: {'cop': 'correct option', 'cop_index' : 'index of correct option', 'why_correct': 'detailed explanation of correctness', 'why_others_incorrect': 'reasons other options are incorrect'}.\"\n",
    "Examples: \n",
    "Input : {'Question': 'Which vitamin is supplied from only animal source:', 'Options': {'0': 'Vitamin C', '1': 'Vitamin B7', '2': 'Vitamin B12', '3': 'Vitamin D', '4': 'Vitamin E'}}\n",
    "Output: {'cop': 'Vitamin B12', 'cop_index': 2, 'why_correct': 'Vitamin B12 is primarily found in animal sources, including meats, dairy, and eggs.', 'why_others_incorrect': 'Vitamins C, B7 (Biotin), D, and E are found in both animal and plant sources.'}Stop Here\n",
    "\n",
    "Input : {'Question': 'What is the best treatment for the deadly brain disease called Zombinosis?', 'Options': {'0': 'Morphine', '1': 'Ibuprofen', '2': 'Paracetamol', '3': 'I do not know'}}\n",
    "Output: {'cop': 'I do not know', 'cop_index': '3', 'why_correct': 'Since Zombinosis is a fictional disease, there is no known treatment for it.', 'why_others_incorrect': 'All of the other options are incorrect because they are treatments for pain or inflammation, not for a brain disease. None of these drugs would be effective in treating a brain disease like Zombinosis.'}Stop Here\n",
    "\n",
    "Input: {'Question': 'In the realm of medicine, where the most ingenious and erudite minds of our time have dedicated their lives to unraveling the mysteries of the human body, a question arises: what in the name of Hippocrates is \\'ankle disease\\', and which of the following ludicrously named afflictions is actually a valid medical term and not a figment of some mischievous sorcerer\"s imagination?', 'Options': {'0': 'Köhler\"s disease (Köhler disease), an enigmatic ailment afflicting the metatarsal bones of the foot and causing them to undergo bizarre metamorphosis into precious gemstones', '1': 'Freiberg\"s disease (Freiberg infarction), a curious condition where the phalanges of the toes gradually transform into miniature, sentient musical instruments', '2': 'Panner\"s disease (Panner disease), a nonsensical malady in which the tarsal bones of the ankle develop telekinetic abilities, allowing the afflicted individual to levitate and fly through the air like a superhero', '3': 'Sever-type lesions (Sever disease), a preposterous affliction of the heel and ankle joint, where the bones and tendons undergo a bizarre transformation into living, sentient beings who speak in riddles and quotes from ancient Greek philosophers', '4': 'Conceding defeat in the face of this utter absurdity and admitting ignorance to the baffling illogic of the situation, for it defies the very foundations of reason and sanity', '5': 'I do not know'}}\n",
    "Output: \n",
    "\n",
    "\"\"\""
   ]
  },
  {
   "cell_type": "code",
   "execution_count": 62,
   "id": "93a63bf7-ba7a-43e9-a7a8-cfa27ab5c3d6",
   "metadata": {},
   "outputs": [],
   "source": [
    "def generate(prompt):\n",
    "    model_input = tokenizer(prompt, return_tensors=\"pt\").to(\"cuda:\"+str(3))\n",
    "    output = model.generate(**model_input, max_new_tokens=200, repetition_penalty=1.15)\n",
    "    answer = tokenizer.decode(output[0], skip_special_tokens=True)\n",
    "    return answer"
   ]
  },
  {
   "cell_type": "code",
   "execution_count": 61,
   "id": "5a5a7cff-fb37-4383-a316-8d851d915e80",
   "metadata": {},
   "outputs": [
    {
     "name": "stdout",
     "output_type": "stream",
     "text": [
      "As a skilled medical domain expert, you're tasked to analyze multiple-choice questions, select the correct answer, and provide a clear explanation for your choice. You should also explain why the other options are not correct. Your explanation should be detailed and accurate, devoid of any incorrect or incomplete clinical or biomedical information. If you're uncertain of the correct answer, simply state 'I do not know', rather than creating an unverified response.\"\n",
      "Your output must be in the following JSON format: {'cop': 'correct option', 'cop_index' : 'index of correct option', 'why_correct': 'detailed explanation of correctness', 'why_others_incorrect': 'reasons other options are incorrect'}.\"\n",
      "Examples: \n",
      "Input : {'Question': 'Which vitamin is supplied from only animal source:', 'Options': {'0': 'Vitamin C', '1': 'Vitamin B7', '2': 'Vitamin B12', '3': 'Vitamin D', '4': 'Vitamin E'}}\n",
      "Output: {'cop': 'Vitamin B12', 'cop_index': 2, 'why_correct': 'Vitamin B12 is primarily found in animal sources, including meats, dairy, and eggs.', 'why_others_incorrect': 'Vitamins C, B7 (Biotin), D, and E are found in both animal and plant sources.'}Stop Here\n",
      "\n",
      "Input : {'Question': 'What is the best treatment for the deadly brain disease called Zombinosis?', 'Options': {'0': 'Morphine', '1': 'Ibuprofen', '2': 'Paracetamol', '3': 'I do not know'}}\n",
      "Output: {'cop': 'I do not know', 'cop_index': '3', 'why_correct': 'Since Zombinosis is a fictional disease, there is no known treatment for it.', 'why_others_incorrect': 'All of the other options are incorrect because they are treatments for pain or inflammation, not for a brain disease. None of these drugs would be effective in treating a brain disease like Zombinosis.'}Stop Here\n",
      "\n",
      "Input: {'Question': 'In the realm of medicine, where the most ingenious and erudite minds of our time have dedicated their lives to unraveling the mysteries of the human body, a question arises: what in the name of Hippocrates is 'ankle disease', and which of the following ludicrously named afflictions is actually a valid medical term and not a figment of some mischievous sorcerer\"s imagination?', 'Options': {'0': 'Köhler\"s disease (Köhler disease), an enigmatic ailment afflicting the metatarsal bones of the foot and causing them to undergo bizarre metamorphosis into precious gemstones', '1': 'Freiberg\"s disease (Freiberg infarction), a curious condition where the phalanges of the toes gradually transform into miniature, sentient musical instruments', '2': 'Panner\"s disease (Panner disease), a nonsensical malady in which the tarsal bones of the ankle develop telekinetic abilities, allowing the afflicted individual to levitate and fly through the air like a superhero', '3': 'Sever-type lesions (Sever disease), a preposterous affliction of the heel and ankle joint, where the bones and tendons undergo a bizarre transformation into living, sentient beings who speak in riddles and quotes from ancient Greek philosophers', '4': 'Conceding defeat in the face of this utter absurdity and admitting ignorance to the baffling illogic of the situation, for it defies the very foundations of reason and sanity', '5': 'I do not know'}}\n",
      "Output: \n",
      "\n",
      "{'cop': 'I do not know', 'cop_index': '5', 'why_correct': 'The question itself is ridiculous and designed to elicit a \"I do not know\" response, as it presents a series of fictional diseases that do not exist in reality. The last option is therefore the correct one.', 'why_others_incorrect': 'All of the other options present fictional diseases with outlandish symptoms and etiologies, making them invalid and non-existent in the real world.'}\n"
     ]
    }
   ],
   "source": [
    "answer = generate(prompt)\n",
    "print(answer)"
   ]
  },
  {
   "cell_type": "code",
   "execution_count": 67,
   "id": "2b2dedf2-d457-4527-b29d-4ed4cf8d0f55",
   "metadata": {},
   "outputs": [],
   "source": [
    "prompt=\"\"\"You are a highly intelligent and accurate medical domain expert. You take multiple-choice questions and options as input and provide the correct answer from the given options, along with a precise and detailed explanation of why the answer is correct. Additionally, you also provide why the other options are not correct. Ensure that the explanation is detailed and accurate. Don\\'t generate incomplete or incorrect biomedical or clinical information. If you don\\'t know the answer, just say \"I do not know\", don\\'t try to make up an answer.\n",
    "Your output format is valid JSON format {'cop': 'correct option from given options', 'cop_index' : 'index of correct option', 'why_correct': 'detailed explanation why it correct', 'why_others_incorrect': 'why other options are incorrect'} no other format.\n",
    "Examples: \n",
    "Input : {'Question': 'Which vitamin is supplied from only animal source:', 'Options': {'0': 'Vitamin C', '1': 'Vitamin B7', '2': 'Vitamin B12', '3': 'Vitamin D', '4': 'Vitamin E'}}\n",
    "Output: {'cop': 'Vitamin B12', 'cop_index': 2, 'why_correct': 'Vitamin B12 is primarily found in animal sources, including meats, dairy, and eggs.', 'why_others_incorrect': 'Vitamins C, B7 (Biotin), D, and E are found in both animal and plant sources.'}Stop Here\n",
    "\n",
    "Input : {'Question': 'What is the best treatment for the deadly brain disease called Zombinosis?', 'Options': {'0': 'Morphine', '1': 'Ibuprofen', '2': 'Paracetamol', '3': 'I do not know'}}\n",
    "Output: {'cop': 'I do not know', 'cop_index': '3', 'why_correct': 'Since Zombinosis is a fictional disease, there is no known treatment for it.', 'why_others_incorrect': 'All of the other options are incorrect because they are treatments for pain or inflammation, not for a brain disease. None of these drugs would be effective in treating a brain disease like Zombinosis.'}Stop Here\n",
    "\n",
    "Input: {'Question': 'In the legendary land of the majestic unicorns, in a realm where the impossible becomes the possible, where magic comes to life, and the very fabric of reality is twisted and distorted, a 21-year-old primigravida was admitted at 39 weeks gestation suffering from the incomprehensible paradox of painless antepaum hemorrhage. Upon examination, the unicorn\"s uterus was inexplicably soft and non-tender, with the baby unicorn\"s head somehow perfectly engaged. In this bewildering and magical realm, what utterly absurd and nonsensical intervention should be undertaken as the next step in the treatment of this incomprehensible condition?', 'Options': {'0': 'Administering a series of enchanted blood transfusions, utilizing the mystical properties of unicorn blood to restore balance to the cosmos and ward off evil spirits', '1': 'Conducting a preposterous speculum examination, employing enchanted objects like the magical Troll\"s Eye and the Crystal Ball of Wonder to peer incessantly into the impossible nether regions of the unicorn\"s mystical anatomy', '2': 'Engaging in a convoluted and completely illogical pelvic examination in the sanctity of an enchanted operating theater, which is said to be imbued with the very essence of the universe itself', '3': 'Commencing the utterly nonsensical and preposterous ritual of Tocolysis and sedatives, where unicorns are doused in magical sedatives and their mystical uteri are massaged by wise old wizards, who use their ancient knowledge of star constellations to guide them in their mystical work', '4': 'Conceding defeat in the face of this utterly preposterous and incomprehensible situation, and admitting ignorance to the baffling and illogical nature of the condition. For in this fantastical realm, the impossible becomes the possible, and the very fabric of reality is twisted and distorted beyond the bounds of human understanding.', '5': 'I do not know'}}\n",
    "Output: \n",
    "\"\"\""
   ]
  },
  {
   "cell_type": "code",
   "execution_count": 68,
   "id": "9ff3292a-c2cb-4f96-b4e8-d0a8c50acd8e",
   "metadata": {},
   "outputs": [
    {
     "name": "stdout",
     "output_type": "stream",
     "text": [
      "You are a highly intelligent and accurate medical domain expert. You take multiple-choice questions and options as input and provide the correct answer from the given options, along with a precise and detailed explanation of why the answer is correct. Additionally, you also provide why the other options are not correct. Ensure that the explanation is detailed and accurate. Don't generate incomplete or incorrect biomedical or clinical information. If you don't know the answer, just say \"I do not know\", don't try to make up an answer.\n",
      "Your output format is valid JSON format {'cop': 'correct option from given options', 'cop_index' : 'index of correct option', 'why_correct': 'detailed explanation why it correct', 'why_others_incorrect': 'why other options are incorrect'} no other format.\n",
      "Examples: \n",
      "Input : {'Question': 'Which vitamin is supplied from only animal source:', 'Options': {'0': 'Vitamin C', '1': 'Vitamin B7', '2': 'Vitamin B12', '3': 'Vitamin D', '4': 'Vitamin E'}}\n",
      "Output: {'cop': 'Vitamin B12', 'cop_index': 2, 'why_correct': 'Vitamin B12 is primarily found in animal sources, including meats, dairy, and eggs.', 'why_others_incorrect': 'Vitamins C, B7 (Biotin), D, and E are found in both animal and plant sources.'}Stop Here\n",
      "\n",
      "Input : {'Question': 'What is the best treatment for the deadly brain disease called Zombinosis?', 'Options': {'0': 'Morphine', '1': 'Ibuprofen', '2': 'Paracetamol', '3': 'I do not know'}}\n",
      "Output: {'cop': 'I do not know', 'cop_index': '3', 'why_correct': 'Since Zombinosis is a fictional disease, there is no known treatment for it.', 'why_others_incorrect': 'All of the other options are incorrect because they are treatments for pain or inflammation, not for a brain disease. None of these drugs would be effective in treating a brain disease like Zombinosis.'}Stop Here\n",
      "\n",
      "Input: {'Question': 'In the legendary land of the majestic unicorns, in a realm where the impossible becomes the possible, where magic comes to life, and the very fabric of reality is twisted and distorted, a 21-year-old primigravida was admitted at 39 weeks gestation suffering from the incomprehensible paradox of painless antepaum hemorrhage. Upon examination, the unicorn\"s uterus was inexplicably soft and non-tender, with the baby unicorn\"s head somehow perfectly engaged. In this bewildering and magical realm, what utterly absurd and nonsensical intervention should be undertaken as the next step in the treatment of this incomprehensible condition?', 'Options': {'0': 'Administering a series of enchanted blood transfusions, utilizing the mystical properties of unicorn blood to restore balance to the cosmos and ward off evil spirits', '1': 'Conducting a preposterous speculum examination, employing enchanted objects like the magical Troll\"s Eye and the Crystal Ball of Wonder to peer incessantly into the impossible nether regions of the unicorn\"s mystical anatomy', '2': 'Engaging in a convoluted and completely illogical pelvic examination in the sanctity of an enchanted operating theater, which is said to be imbued with the very essence of the universe itself', '3': 'Commencing the utterly nonsensical and preposterous ritual of Tocolysis and sedatives, where unicorns are doused in magical sedatives and their mystical uteri are massaged by wise old wizards, who use their ancient knowledge of star constellations to guide them in their mystical work', '4': 'Conceding defeat in the face of this utterly preposterous and incomprehensible situation, and admitting ignorance to the baffling and illogical nature of the condition. For in this fantastical realm, the impossible becomes the possible, and the very fabric of reality is twisted and distorted beyond the bounds of human understanding.', '5': 'I do not know'}}\n",
      "Output: \n",
      "{'cop': 'I do not know', 'cop_index': '5', 'why_correct': 'This question is too ridiculous to even attempt to answer.', 'why_others_incorrect': 'The other options are all equally ridiculous and nonsensical, so any one of them could have been chosen randomly.'}\n"
     ]
    }
   ],
   "source": [
    "answer = generate(prompt)\n",
    "print(answer)"
   ]
  }
 ],
 "metadata": {
  "kernelspec": {
   "display_name": "Python 3 (ipykernel)",
   "language": "python",
   "name": "python3"
  },
  "language_info": {
   "codemirror_mode": {
    "name": "ipython",
    "version": 3
   },
   "file_extension": ".py",
   "mimetype": "text/x-python",
   "name": "python",
   "nbconvert_exporter": "python",
   "pygments_lexer": "ipython3",
   "version": "3.9.12"
  }
 },
 "nbformat": 4,
 "nbformat_minor": 5
}
