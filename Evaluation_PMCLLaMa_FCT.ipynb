{
  "nbformat": 4,
  "nbformat_minor": 0,
  "metadata": {
    "colab": {
      "provenance": []
    },
    "kernelspec": {
      "name": "python3",
      "display_name": "Python 3"
    },
    "language_info": {
      "name": "python"
    }
  },
  "cells": [
    {
      "cell_type": "code",
      "execution_count": null,
      "metadata": {
        "id": "-SJSaXe89sgr"
      },
      "outputs": [],
      "source": [
        "import pandas as pd\n",
        "import re"
      ]
    },
    {
      "cell_type": "code",
      "source": [
        "file_path = '/content/FCT.csv'\n",
        "df = pd.read_csv(file_path)\n",
        "file_path2 = '/content/reasoning_FCT.csv'\n",
        "df2 = pd.read_csv(file_path2)"
      ],
      "metadata": {
        "id": "1s2n0Lro-DT_"
      },
      "execution_count": null,
      "outputs": []
    },
    {
      "cell_type": "code",
      "source": [
        "correct_answer_list= df2['correct_answer'].tolist()\n",
        "correct_answer_index_list= df2['correct_index'].tolist()\n",
        "\n",
        "print(len(correct_answer_list))\n",
        "#print(correct_answer_index_list[1])\n",
        "\n",
        "correct_answer_list = [str(item) for item in correct_answer_list]\n"
      ],
      "metadata": {
        "id": "LjQBcIpX_6GJ",
        "colab": {
          "base_uri": "https://localhost:8080/"
        },
        "outputId": "ab46f3de-da04-4177-f3bc-a33ba0bc52ab"
      },
      "execution_count": null,
      "outputs": [
        {
          "output_type": "stream",
          "name": "stdout",
          "text": [
            "18866\n"
          ]
        }
      ]
    },
    {
      "cell_type": "code",
      "source": [
        "def check_pattern(text, pattern):\n",
        "    return bool(pattern.search(text))\n",
        "correct_answer=0\n",
        "iterator=0\n",
        "samples=0\n",
        "for index, row in df.iterrows():\n",
        "    #print(correct_answer_list[iterator])\n",
        "    #print(iterator)\n",
        "    pattern_regex1 = re.compile(re.escape(correct_answer_list[iterator]))\n",
        "\n",
        "    pattern_regex2 = re.compile(str(correct_answer_index_list[iterator]))\n",
        "    cell_content = row[1].split('Output:')[-1]\n",
        "\n",
        "\n",
        "    if check_pattern(cell_content, pattern_regex1) | check_pattern(cell_content, pattern_regex2):\n",
        "       correct_answer += 1\n",
        "\n",
        "    iterator+=1\n",
        "\n",
        "\n",
        "print(f\"The correct answers: {correct_answer}\")\n",
        "Accuracy=(correct_answer/12010)\n",
        "Accuracy_percentage=Accuracy * 100\n",
        "print(f\"The accuracy: {Accuracy_percentage}\")\n",
        "wrong_answer=12010-correct_answer\n",
        "print(f\"The wrong answers: {wrong_answer}\")\n",
        "PointwiseScore=((Accuracy*12010) - 0.25*(12010 - Accuracy*12010))/100\n",
        "print(f\"The PointwiseScore: {PointwiseScore}\")\n"
      ],
      "metadata": {
        "colab": {
          "base_uri": "https://localhost:8080/"
        },
        "id": "ws6mfg4LA2j2",
        "outputId": "2f6f232a-87e4-4bd7-d041-a6c2e59c89d7"
      },
      "execution_count": null,
      "outputs": [
        {
          "output_type": "stream",
          "name": "stdout",
          "text": [
            "The correct answers: 4464\n",
            "The accuracy: 37.16902581182348\n",
            "The wrong answers: 7546\n",
            "The PointwiseScore: 25.775\n"
          ]
        }
      ]
    }
  ]
}